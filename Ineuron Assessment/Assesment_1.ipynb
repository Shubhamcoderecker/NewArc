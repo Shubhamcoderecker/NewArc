{
 "cells": [
  {
   "cell_type": "code",
   "execution_count": 2,
   "id": "84dd292c",
   "metadata": {},
   "outputs": [
    {
     "name": "stdout",
     "output_type": "stream",
     "text": [
      "This is a placement assignment\n",
      "This is a screening assignment\n"
     ]
    }
   ],
   "source": [
    "file=open(\"example.txt\",\"w\")\n",
    "file.write(\"This is a placement assignment\")\n",
    "file.close()\n",
    "\n",
    "\n",
    "\n",
    "def replace(search_text, replace_text):\n",
    "    file_content=open(\"example.txt\",\"r+\")\n",
    "    for i in file_content:\n",
    "        print(i)\n",
    "        if \"placement\" in i:\n",
    "            a=i.replace(search_text, replace_text)\n",
    "            print(a)\n",
    "            file_content=open(\"example.txt\",\"w\")\n",
    "            file_content.write(a)\n",
    "        else:\n",
    "            pass\n",
    "        \n",
    "        \n",
    "        \n",
    "    \n",
    "search_text=\"placement\"\n",
    "replace_text=\"screening\"\n",
    "replace(search_text, replace_text)  "
   ]
  },
  {
   "cell_type": "code",
   "execution_count": null,
   "id": "a109cda5",
   "metadata": {},
   "outputs": [],
   "source": []
  },
  {
   "cell_type": "code",
   "execution_count": null,
   "id": "49905557",
   "metadata": {},
   "outputs": [],
   "source": []
  }
 ],
 "metadata": {
  "kernelspec": {
   "display_name": "Python 3 (ipykernel)",
   "language": "python",
   "name": "python3"
  },
  "language_info": {
   "codemirror_mode": {
    "name": "ipython",
    "version": 3
   },
   "file_extension": ".py",
   "mimetype": "text/x-python",
   "name": "python",
   "nbconvert_exporter": "python",
   "pygments_lexer": "ipython3",
   "version": "3.9.7"
  }
 },
 "nbformat": 4,
 "nbformat_minor": 5
}
