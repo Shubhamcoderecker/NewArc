{
 "cells": [
  {
   "cell_type": "markdown",
   "id": "727b466b",
   "metadata": {},
   "source": [
    "# Multiple Inheritance"
   ]
  },
  {
   "cell_type": "code",
   "execution_count": 2,
   "id": "9f51572e",
   "metadata": {},
   "outputs": [
    {
     "name": "stdout",
     "output_type": "stream",
     "text": [
      "This is my method of xyz1 class\n"
     ]
    }
   ],
   "source": [
    "class xyz:\n",
    "    def __init__(self,a,b,c):\n",
    "        self.a=a\n",
    "        self.b=b\n",
    "        self.c=c\n",
    "        \n",
    "    def test(self):\n",
    "        print(\"This is my method of this class\")\n",
    "        \n",
    "class xyz1(xyz):\n",
    "     def test_1(self):\n",
    "            print(\"This is my method of xyz1 class\")\n",
    "            \n",
    "class xyz2(xyz1):\n",
    "    def test_2(self):\n",
    "        print(\"This is my method of xyz2 class\")\n",
    "        \n",
    "\n",
    "n=xyz1(1,2,3)\n",
    "n.test_1()"
   ]
  },
  {
   "cell_type": "markdown",
   "id": "cc8dfe43",
   "metadata": {},
   "source": [
    "# Abstract class"
   ]
  },
  {
   "cell_type": "code",
   "execution_count": null,
   "id": "4b9aa8ac",
   "metadata": {},
   "outputs": [],
   "source": [
    "# Abstract class are blueprint of the class,an abstract class is a class that cannot be instantiated."
   ]
  },
  {
   "cell_type": "code",
   "execution_count": 5,
   "id": "5b35fae8",
   "metadata": {},
   "outputs": [],
   "source": [
    "class Payroll:\n",
    "    def __init__(self):\n",
    "        self.employee_list = []\n",
    "\n",
    "    def add(self, employee):\n",
    "        self.employee_list.append(employee)\n",
    "\n",
    "    def print(self):\n",
    "        for e in self.employee_list:\n",
    "            print(f\"{e.full_name} \\t ${e.get_salary()}\")"
   ]
  },
  {
   "cell_type": "code",
   "execution_count": 6,
   "id": "67437488",
   "metadata": {},
   "outputs": [],
   "source": [
    "from abc import ABC, abstractmethod\n",
    " \n",
    "class AbstractClassExample(ABC):\n",
    " \n",
    "    def __init__(self, value):\n",
    "        self.value = value\n",
    "        super().__init__()\n",
    "    \n",
    "    @abstractmethod\n",
    "    def do_something(self):\n",
    "        pass"
   ]
  },
  {
   "cell_type": "markdown",
   "id": "a6b9f764",
   "metadata": {},
   "source": [
    "# Decorator"
   ]
  },
  {
   "cell_type": "code",
   "execution_count": 4,
   "id": "de808500",
   "metadata": {},
   "outputs": [],
   "source": [
    "# A decorator in Python is a function that takes another function as its argument, and returns yet another function."
   ]
  },
  {
   "cell_type": "code",
   "execution_count": 7,
   "id": "815e42ba",
   "metadata": {},
   "outputs": [],
   "source": [
    "def outer_function():\n",
    "    '''Assign task to student'''\n",
    "\n",
    "    task = 'Read a Python book.'\n",
    "    def inner_function():\n",
    "        print(task)\n",
    "    return inner_function"
   ]
  },
  {
   "cell_type": "code",
   "execution_count": 8,
   "id": "408fcb3d",
   "metadata": {},
   "outputs": [],
   "source": [
    "homework = outer_function()"
   ]
  },
  {
   "cell_type": "code",
   "execution_count": 9,
   "id": "b81d39b8",
   "metadata": {},
   "outputs": [
    {
     "name": "stdout",
     "output_type": "stream",
     "text": [
      "Read Python book chapter 3.\n"
     ]
    }
   ],
   "source": [
    "homework()"
   ]
  },
  {
   "cell_type": "code",
   "execution_count": null,
   "id": "d57b7a02",
   "metadata": {},
   "outputs": [],
   "source": []
  }
 ],
 "metadata": {
  "kernelspec": {
   "display_name": "Python 3 (ipykernel)",
   "language": "python",
   "name": "python3"
  },
  "language_info": {
   "codemirror_mode": {
    "name": "ipython",
    "version": 3
   },
   "file_extension": ".py",
   "mimetype": "text/x-python",
   "name": "python",
   "nbconvert_exporter": "python",
   "pygments_lexer": "ipython3",
   "version": "3.9.7"
  }
 },
 "nbformat": 4,
 "nbformat_minor": 5
}
